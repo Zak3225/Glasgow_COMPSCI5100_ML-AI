{
 "cells": [
  {
   "cell_type": "markdown",
   "metadata": {},
   "source": [
    "<h3>ML4DS Lab: week 1: Simple linear regression lab</h3>\n",
    "\n",
    "#### Aims \n",
    "\n",
    "* Do a simple linear regression on the Olympic 100~m data in Python\n",
    "* Practise numpy, matplotlib, and sklearn\n",
    "\n",
    "\n",
    "#### Tasks \n",
    "* Download the data (‘olympic100m.txt’) from the Moodle page\n",
    "* Plot Olympic year against winning time\n",
    "* Plot the loss function in 1D and 2D\n",
    "* Fit a model with sklearn functions \n",
    "* Fit a model with using provided expressions to compute $w_0$ and $w_1$. \n",
    "* Create a new plot that includes the data and the function defined by $w_0$ and $w_1$\n",
    "* Make a prediction at 2012"
   ]
  },
  {
   "cell_type": "markdown",
   "metadata": {},
   "source": [
    "#### Task 1: Download and import the olympic data\n",
    "\n",
    "Reference to `loadtxt` https://docs.scipy.org/doc/numpy/reference/generated/numpy.loadtxt.html"
   ]
  },
  {
   "cell_type": "code",
   "execution_count": 1,
   "metadata": {
    "pycharm": {
     "is_executing": false
    }
   },
   "outputs": [],
   "source": [
    "import numpy as np \n",
    "\n",
    "data = np.loadtxt(\"olympic100m.txt\", delimiter= ',')\n",
    "\n",
    "\n"
   ]
  },
  {
   "cell_type": "markdown",
   "metadata": {},
   "source": [
    "#### Task 2: Plot the data\n",
    "Reference to `scatter`: https://matplotlib.org/3.1.1/api/_as_gen/matplotlib.pyplot.scatter.html"
   ]
  },
  {
   "cell_type": "code",
   "execution_count": 13,
   "metadata": {
    "pycharm": {
     "is_executing": false
    }
   },
   "outputs": [
    {
     "data": {
      "text/plain": "<Figure size 432x288 with 1 Axes>",
      "image/png": "[encoded data removed]"
     },
     "metadata": {
      "needs_background": "light"
     },
     "output_type": "display_data"
    }
   ],
   "source": [
    "# %matplotlib inline\n",
    "import pylab as plt\n",
    "f1 = plt.figure()\n",
    "x = data[:,0]\n",
    "t = data[:,1]\n",
    "plt.scatter(x,t)\n",
    "plt.xlabel(\"Year\")\n",
    "plt.ylabel('Time(Seconds)')\n",
    "plt.show()"
   ]
  },
  {
   "cell_type": "markdown",
   "metadata": {},
   "source": [
    "#### Task 3. Fit a straightline using `LinearRegression` in `sklean`. Plot the model with the data and prediction at 2012.\n",
    "Reference to `LinearRegression`: https://scikit-learn.org/stable/modules/generated/sklearn.linear_model.LinearRegression.html"
   ]
  },
  {
   "cell_type": "code",
   "execution_count": 12,
   "metadata": {
    "pycharm": {
     "is_executing": false
    }
   },
   "outputs": [
    {
     "name": "stdout",
     "text": [
      "(27, 1)\n",
      "[array([36.4164559]), array([[-0.01333089]])]\n"
     ],
     "output_type": "stream"
    }
   ],
   "source": [
    "from sklearn.linear_model import LinearRegression # import \n",
    "# x = x[:,0]\n",
    "# 如下操作可以保证数据不变的情况下给数组增加一个维度\n",
    "x = x[:,None]# 27 x 1 array\n",
    "t = t[:,None]# 27 x 1 array\n",
    "\n",
    "print(t.shape)\n",
    "# LinearRegression.fit()函数必须输入2维数组，1维数组会报错\n",
    "reg = LinearRegression().fit(x,t)\n",
    "print([reg.intercept_, reg.coef_])\n",
    "\n",
    "# print w0, w1"
   ]
  },
  {
   "cell_type": "code",
   "execution_count": 17,
   "metadata": {
    "pycharm": {
     "is_executing": false
    }
   },
   "outputs": [
    {
     "data": {
      "text/plain": "<Figure size 432x288 with 1 Axes>",
      "image/png": "[encoded data removed]"
     },
     "metadata": {
      "needs_background": "light"
     },
     "output_type": "display_data"
    }
   ],
   "source": [
    "# generate new x to plot the fitted line. Note better not to use the original x !\n",
    "x_test = np.linspace(1880,2020,100)\n",
    "\n",
    "# plot the fitted model\n",
    "plt.plot(x_test, reg.predict(x_test[:,None]), 'b-', linewidth = 2)\n",
    "\n",
    "# plot the prediction at 2012 \n",
    "plt.plot(2012, reg.predict(np.array([[2012]])),'ro')\n",
    "\n",
    "# draw a scatter plot\n",
    "plt.scatter(x,t)\n",
    "\n",
    "# always label x&y-axis\n",
    "plt.xlabel(\"Year\")\n",
    "plt.ylabel('Time(Seconds)')\n",
    "\n",
    "plt.show()"
   ]
  },
  {
   "cell_type": "markdown",
   "metadata": {},
   "source": [
    "#### Task 5: Fit the model with the Least Square solution. Plot the model with the data and prediction at 2012.\n",
    "\n",
    "Let's fit a model with an analytical solution to the problem of finding the parameters with the minimum average loss. \n",
    "\n",
    "Recall that the average loss is $$  L(w_0, w_1) = \\frac{1}{N}\\sum_{n=1}^N (t_n - w_0 - w_1x_n)^2 $$\n",
    "$L$ is a function of $w_0$ and $w_1$. All $x_n$ and $t_n$ are given.  \n",
    "\n",
    "The procedure to find the analytical expression of the optimal parameters is the following:\n",
    "\n",
    "- Solving $$\\frac{\\partial L(w_0, w_1)}{\\partial w_0} = 0, \\quad \\frac{\\partial L(w_0, w_1)}{\\partial w_1} = 0 $$ \n",
    "- the average loss is minimised:\n",
    "$$ w_1 = \\frac{\\bar{x}\\bar{t} - \\bar{xt}}{\\bar{x}\\bar{x} - \\bar{x^2}} $$\n",
    "and\n",
    "$$ w_0 = \\bar{t} - w_1\\bar{x} $$\n",
    "where $\\bar{z} = \\frac{1}{N}\\sum_{n=1}^N z_n$.\n",
    "\n",
    "You are encouraged to derive these yourself"
   ]
  },
  {
   "cell_type": "code",
   "execution_count": 19,
   "metadata": {
    "pycharm": {
     "is_executing": false
    }
   },
   "outputs": [
    {
     "name": "stdout",
     "text": [
      "1952.3703703703704\n",
      "10.389629629629631\n",
      "3812975.5555555555\n",
      "20268.06814814815\n"
     ],
     "output_type": "stream"
    }
   ],
   "source": [
    "xbar = x.mean()\n",
    "tbar = t.mean()\n",
    "xxbar = np.multiply(x,x).mean()\n",
    "xtbar = np.multiply(x,t).mean()\n",
    "print(xbar)\n",
    "print(tbar)\n",
    "print(xxbar)\n",
    "print(xtbar)"
   ]
  },
  {
   "cell_type": "code",
   "execution_count": 20,
   "metadata": {
    "pycharm": {
     "is_executing": false
    }
   },
   "outputs": [
    {
     "name": "stdout",
     "text": [
      "36.41645590250286\n",
      "-0.013330885710960602\n"
     ],
     "output_type": "stream"
    }
   ],
   "source": [
    "w1 = (xbar*tbar - xtbar)/(xbar*xbar - xxbar)\n",
    "w0 = tbar - w1*xbar\n",
    "print(w0)\n",
    "print(w1)"
   ]
  },
  {
   "cell_type": "code",
   "execution_count": 26,
   "metadata": {
    "pycharm": {
     "is_executing": false
    }
   },
   "outputs": [
    {
     "data": {
      "text/plain": "<Figure size 432x288 with 1 Axes>",
      "image/png": "[encoded data removed]"
     },
     "metadata": {
      "needs_background": "light"
     },
     "output_type": "display_data"
    }
   ],
   "source": [
    "# generate new x to plot the fitted line. Note better not to use the original x !\n",
    "x_test = np.linspace(1880,2020,100)\n",
    "\n",
    "# plot the fitted model\n",
    "plt.plot(x_test,w0+w1*x_test, 'b-', linewidth = 2)\n",
    "\n",
    "# plot the fitted data\n",
    "plt.plot(2012, w0+w1*2012,'ro')\n",
    "\n",
    "# draw a scatter plot\n",
    "plt.scatter(x,t)\n",
    "\n",
    "# always label x&y-axis\n",
    "plt.xlabel(\"Year\")\n",
    "plt.ylabel('Time(Seconds)')\n",
    "\n",
    "plt.show()"
   ]
  },
  {
   "cell_type": "code",
   "execution_count": null,
   "metadata": {},
   "outputs": [],
   "source": []
  }
 ],
 "metadata": {
  "kernelspec": {
   "display_name": "Python 3",
   "language": "python",
   "name": "python3"
  },
  "language_info": {
   "codemirror_mode": {
    "name": "ipython",
    "version": 3
   },
   "file_extension": ".py",
   "mimetype": "text/x-python",
   "name": "python",
   "nbconvert_exporter": "python",
   "pygments_lexer": "ipython3",
   "version": "3.7.3"
  },
  "pycharm": {
   "stem_cell": {
    "cell_type": "raw",
    "source": [],
    "metadata": {
     "collapsed": false
    }
   }
  }
 },
 "nbformat": 4,
 "nbformat_minor": 2
}